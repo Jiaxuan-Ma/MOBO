{
 "cells": [
  {
   "cell_type": "code",
   "execution_count": 23,
   "metadata": {},
   "outputs": [],
   "source": [
    "import numpy as np\n",
    "from sklearn.tree import DecisionTreeClassifier\n",
    "from sklearn.model_selection import KFold\n",
    "# Transfer Stacking\n",
    "def TransferStacking(Xmsource, Xtarget, Ymsource, Ytarget, *kargs):\n",
    "    \"\"\"\n",
    "    Transfer Stacking\n",
    "    parameter\n",
    "    _________\n",
    "    Xmsource = dict{source1: A,\n",
    "                    source2: B,\n",
    "                    ...}\n",
    "    Xtarget - matrix\n",
    "    Ymsource = dict{source1: A,\n",
    "                    source2: B.\n",
    "                    ...}\n",
    "    Ytarget - vector\n",
    "    Xtest\n",
    "\n",
    "    Atrributes\n",
    "    ----------\n",
    "    \n",
    "    return\n",
    "    ------\n",
    "    \"\"\"\n",
    "    Xsource = np.concatenate(list(Xmsource.values()))\n",
    "    Xtrain = np.concatenate([Xsource, Xtarget], axis=0)\n",
    "    Ysource = np.concatenate(list(Ymsource.value()))\n",
    "    Ytrain = np.concatenate([Ysource, Ytarget], axis=0)\n",
    "    # experts\n",
    "    n = Xtrain.shape[0]\n",
    "    B = 5\n",
    "    O = []\n",
    "    for i in range(n):\n",
    "        for j in range(B):\n",
    "            estimator = DecisionTreeClassifier()\n",
    "            estimator.fit(Xtrain, Ytrain)\n",
    "            O[i][j] = estimator.predict(Xtrain[i])\n",
    "    # KFold\n",
    "    F = 5\n",
    "    # 创建一个 KFold 对象，设置折数为 5\n",
    "    kf = KFold(n_splits=F)\n",
    "\n",
    "    # 使用 KFold 对象划分数据集，并进行交叉验证\n",
    "    O_B = np.zeros(n, 1)\n",
    "    for train_index, val_index in kf.split(Xtrain):\n",
    "        x_train, x_val = [Xtrain[i] for i in train_index], [Xtrain[i] for i in val_index]\n",
    "        y_train, y_val = [Ytrain[i] for i in train_index], [Ytrain[i] for i in val_index]\n",
    "        estimator.fit(x_train, y_train)\n",
    "\n",
    "        O_B[val_index] = estimator.predict(x_val)\n",
    "\n",
    "    # 输出训练集和测试集的索引\n",
    "    print(\"Train:\", train_index)\n",
    "    print(\"Test:\", val_index)\n",
    "    \n",
    "    # O[i][j] = \n"
   ]
  },
  {
   "cell_type": "code",
   "execution_count": 24,
   "metadata": {},
   "outputs": [
    {
     "ename": "TypeError",
     "evalue": "TransferStacking() missing 2 required positional arguments: 'Ymsource' and 'Ytarget'",
     "output_type": "error",
     "traceback": [
      "\u001b[0;31m---------------------------------------------------------------------------\u001b[0m",
      "\u001b[0;31mTypeError\u001b[0m                                 Traceback (most recent call last)",
      "Cell \u001b[0;32mIn[24], line 6\u001b[0m\n\u001b[1;32m      1\u001b[0m my_dict \u001b[39m=\u001b[39m {\n\u001b[1;32m      2\u001b[0m     \u001b[39m'\u001b[39m\u001b[39mkey1\u001b[39m\u001b[39m'\u001b[39m: [[\u001b[39m1\u001b[39m, \u001b[39m2\u001b[39m, \u001b[39m3\u001b[39m],[\u001b[39m10\u001b[39m,\u001b[39m11\u001b[39m,\u001b[39m12\u001b[39m]],\n\u001b[1;32m      3\u001b[0m     \u001b[39m'\u001b[39m\u001b[39mkey2\u001b[39m\u001b[39m'\u001b[39m: [[\u001b[39m4\u001b[39m, \u001b[39m5\u001b[39m, \u001b[39m6\u001b[39m], [\u001b[39m7\u001b[39m, \u001b[39m8\u001b[39m, \u001b[39m9\u001b[39m]],\n\u001b[1;32m      4\u001b[0m }\n\u001b[1;32m      5\u001b[0m x \u001b[39m=\u001b[39m np\u001b[39m.\u001b[39marray([[\u001b[39m1\u001b[39m,\u001b[39m1\u001b[39m,\u001b[39m1\u001b[39m], [\u001b[39m2\u001b[39m, \u001b[39m2\u001b[39m, \u001b[39m2\u001b[39m]])\n\u001b[0;32m----> 6\u001b[0m TransferStacking(my_dict, x)\n",
      "\u001b[0;31mTypeError\u001b[0m: TransferStacking() missing 2 required positional arguments: 'Ymsource' and 'Ytarget'"
     ]
    }
   ],
   "source": [
    "my_dict = {\n",
    "    'key1': [[1, 2, 3],[10,11,12]],\n",
    "    'key2': [[4, 5, 6], [7, 8, 9]],\n",
    "}\n",
    "x = np.array([[1,1,1], [2, 2, 2]])\n",
    "TransferStacking(my_dict, x)\n"
   ]
  },
  {
   "cell_type": "code",
   "execution_count": 13,
   "metadata": {},
   "outputs": [
    {
     "data": {
      "text/plain": [
       "array([[ 1,  2,  3],\n",
       "       [10, 11, 12],\n",
       "       [ 4,  5,  6],\n",
       "       [ 7,  8,  9]])"
      ]
     },
     "execution_count": 13,
     "metadata": {},
     "output_type": "execute_result"
    }
   ],
   "source": [
    "import numpy as np\n",
    "np.concatenate(list(my_dict.values()))"
   ]
  },
  {
   "cell_type": "code",
   "execution_count": null,
   "metadata": {},
   "outputs": [],
   "source": []
  },
  {
   "cell_type": "code",
   "execution_count": 22,
   "metadata": {},
   "outputs": [
    {
     "name": "stdout",
     "output_type": "stream",
     "text": [
      "Train: [2 3 4 5 6 7 8 9]\n",
      "Test: [0 1]\n",
      "\n",
      "Train: [0 1 4 5 6 7 8 9]\n",
      "Test: [2 3]\n",
      "\n",
      "Train: [0 1 2 3 6 7 8 9]\n",
      "Test: [4 5]\n",
      "\n",
      "Train: [0 1 2 3 4 5 8 9]\n",
      "Test: [6 7]\n",
      "\n",
      "Train: [0 1 2 3 4 5 6 7]\n",
      "Test: [8 9]\n",
      "\n"
     ]
    }
   ],
   "source": [
    "from sklearn.model_selection import KFold\n",
    "\n",
    "# 假设有一个数据集 X 和对应的标签 y\n",
    "X = [11, 21, 31, 41, 13, 6, 7, 8, 9, 10]\n",
    "y = [0, 1, 0, 1, 0, 1, 0, 1, 0, 1]\n",
    "\n",
    "# 创建一个 KFold 对象，设置折数为 5\n",
    "kf = KFold(n_splits=5)\n",
    "\n",
    "# 使用 KFold 对象划分数据集，并进行交叉验证\n",
    "for train_index, test_index in kf.split(X):\n",
    "    X_train, X_test = [X[i] for i in train_index], [X[i] for i in test_index]\n",
    "    y_train, y_test = [y[i] for i in train_index], [y[i] for i in test_index]\n",
    "\n",
    "    # 输出训练集和测试集的索引\n",
    "    print(\"Train:\", train_index)\n",
    "    print(\"Test:\", test_index)\n",
    "    print()\n",
    "\n"
   ]
  },
  {
   "cell_type": "code",
   "execution_count": null,
   "metadata": {},
   "outputs": [],
   "source": []
  },
  {
   "cell_type": "code",
   "execution_count": null,
   "metadata": {},
   "outputs": [],
   "source": []
  }
 ],
 "metadata": {
  "kernelspec": {
   "display_name": "base",
   "language": "python",
   "name": "python3"
  },
  "language_info": {
   "codemirror_mode": {
    "name": "ipython",
    "version": 3
   },
   "file_extension": ".py",
   "mimetype": "text/x-python",
   "name": "python",
   "nbconvert_exporter": "python",
   "pygments_lexer": "ipython3",
   "version": "3.11.4"
  },
  "orig_nbformat": 4
 },
 "nbformat": 4,
 "nbformat_minor": 2
}
